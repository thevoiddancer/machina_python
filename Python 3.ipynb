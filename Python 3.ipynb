{
 "cells": [
  {
   "cell_type": "markdown",
   "metadata": {},
   "source": [
    "# Zadaća"
   ]
  },
  {
   "cell_type": "markdown",
   "metadata": {},
   "source": [
    "1. GitHub\n",
    "2. Promjena u HH:MM\n",
    "3. Broj dana starosti"
   ]
  },
  {
   "cell_type": "markdown",
   "metadata": {},
   "source": [
    "# Uvod"
   ]
  },
  {
   "cell_type": "markdown",
   "metadata": {},
   "source": [
    "* Tipovi ponavljanja\n",
    "* Blokovi"
   ]
  },
  {
   "cell_type": "markdown",
   "metadata": {},
   "source": [
    "# While petlja"
   ]
  },
  {
   "cell_type": "markdown",
   "metadata": {},
   "source": [
    "* Uvjeti tipa \"dok\"\n",
    "* Pozitivno definirani"
   ]
  },
  {
   "cell_type": "markdown",
   "metadata": {},
   "source": [
    "## Primjer 1"
   ]
  },
  {
   "cell_type": "markdown",
   "metadata": {},
   "source": [
    "Napiši program koji će učitati ime korisnika. Program mora ponavljati pitanje sve dok korisnik ne unese nešto"
   ]
  },
  {
   "cell_type": "code",
   "execution_count": null,
   "metadata": {},
   "outputs": [
    {
     "name": "stdout",
     "output_type": "stream",
     "text": [
      "Dobrodošao \n"
     ]
    }
   ],
   "source": [
    "ime = input(\"Unesi ime\")\n",
    "print(\"Dobrodošao\", ime)\n"
   ]
  },
  {
   "cell_type": "code",
   "execution_count": 5,
   "metadata": {},
   "outputs": [
    {
     "name": "stdout",
     "output_type": "stream",
     "text": [
      "Dobrodošao, 4395435\n"
     ]
    }
   ],
   "source": [
    "ime = input(\"Unesi ime\")\n",
    "while ime == '':\n",
    "    print(\"Nisi dobro unio\")\n",
    "    ime = input(\"Unesi ime\")\n",
    "print(\"Dobrodošao,\", ime)\n"
   ]
  },
  {
   "cell_type": "markdown",
   "metadata": {},
   "source": [
    "## Primjer 2"
   ]
  },
  {
   "cell_type": "markdown",
   "metadata": {},
   "source": [
    "Na gornji primjer dodaj brojač koji će korisniku napisati koliko puta je fulao predstaviti se."
   ]
  },
  {
   "cell_type": "code",
   "execution_count": 12,
   "metadata": {},
   "outputs": [
    {
     "name": "stdout",
     "output_type": "stream",
     "text": [
      "Dobrodošao, Tomislav\n",
      "Fulao si unos 2 puta\n"
     ]
    }
   ],
   "source": [
    "ime = input(\"Unesi ime\")\n",
    "broj_ponavljanja = 0\n",
    "while not ime:\n",
    "    broj_ponavljanja = broj_ponavljanja + 1\n",
    "    ime = input(\"Unesi ime\")\n",
    "    # broj_ponavljanja += 1\n",
    "print(\"Dobrodošao,\", ime)\n",
    "print(\"Fulao si unos\", broj_ponavljanja, \"puta\")"
   ]
  },
  {
   "cell_type": "markdown",
   "metadata": {},
   "source": [
    "## Primjer 3"
   ]
  },
  {
   "cell_type": "markdown",
   "metadata": {},
   "source": [
    "Pretvori prošli primjer u beskonačnu petlju"
   ]
  },
  {
   "cell_type": "code",
   "execution_count": 2,
   "metadata": {},
   "outputs": [
    {
     "name": "stdout",
     "output_type": "stream",
     "text": [
      "Dobrodošao, Tomislav\n"
     ]
    }
   ],
   "source": [
    "ime = input(\"Unesi ime\")\n",
    "broj_ponavljanja = 0\n",
    "while True:\n",
    "    if ime:\n",
    "        break\n",
    "    ime = input(\"Unesi ime\")\n",
    "    broj_ponavljanja = broj_ponavljanja + 1\n",
    "print(\"Dobrodošao,\", ime)\n"
   ]
  },
  {
   "cell_type": "markdown",
   "metadata": {},
   "source": [
    "# Ručna kontrola"
   ]
  },
  {
   "cell_type": "markdown",
   "metadata": {},
   "source": [
    "## Break - Primjer 4"
   ]
  },
  {
   "cell_type": "markdown",
   "metadata": {},
   "source": [
    "Napravi beskonačnu petlju koja će stati ako se unese nešto od sljedećeg: 8, broj djeljiv sa 17 ili riječ sa svim velikim slovima"
   ]
  },
  {
   "cell_type": "code",
   "execution_count": 8,
   "metadata": {},
   "outputs": [
    {
     "name": "stdout",
     "output_type": "stream",
     "text": [
      "Unos prekinut zbog unosa: TEST\n"
     ]
    }
   ],
   "source": [
    "riječ = input(\"Unesi ime\")\n",
    "while True:\n",
    "    if riječ == '8':\n",
    "        break\n",
    "    if riječ.isnumeric():\n",
    "        if int(riječ) % 17 == 0:\n",
    "            break\n",
    "    if riječ.isupper():\n",
    "        break\n",
    "    riječ = input(\"Unesi ime\")\n",
    "print(\"Unos prekinut zbog unosa:\", riječ)\n"
   ]
  },
  {
   "cell_type": "markdown",
   "metadata": {},
   "source": [
    "## Continue - Primjer 5"
   ]
  },
  {
   "cell_type": "markdown",
   "metadata": {},
   "source": [
    "U Kini se broj 8 smatra nesretnim, pa neki neboderi nemaju 8. kat. Ispiši brojeve katova do 15, bez 8."
   ]
  },
  {
   "cell_type": "code",
   "execution_count": null,
   "metadata": {},
   "outputs": [],
   "source": [
    "# Prodiskutirati i završiti\n",
    "\n",
    "kat = 0\n",
    "while kat <= 15:\n",
    "    kat += 1\n",
    "    if kat == 8:\n",
    "        continue\n",
    "    print(kat)\n"
   ]
  },
  {
   "cell_type": "markdown",
   "metadata": {},
   "source": [
    "## Pass - Primjer 6"
   ]
  },
  {
   "cell_type": "markdown",
   "metadata": {},
   "source": [
    "Napiši program koji će učitavati riječi dok se neupiše prazan tekst i u slučaju kada je riječ napisana svim velikim slovima onda treba pripremiti nešto, što još ne znamo."
   ]
  },
  {
   "cell_type": "code",
   "execution_count": 7,
   "metadata": {},
   "outputs": [],
   "source": [
    "riječ = input(\"Unesi riječ\")\n",
    "while riječ:\n",
    "    if riječ.isupper():\n",
    "        pass\n",
    "    riječ = input(\"Unesi riječ\")"
   ]
  },
  {
   "cell_type": "markdown",
   "metadata": {},
   "source": [
    "# Zadaci"
   ]
  },
  {
   "cell_type": "markdown",
   "metadata": {},
   "source": [
    "1. Unesi broj tako da se ne skrši"
   ]
  },
  {
   "cell_type": "code",
   "execution_count": 15,
   "metadata": {},
   "outputs": [
    {
     "name": "stdout",
     "output_type": "stream",
     "text": [
      "23000\n"
     ]
    }
   ],
   "source": [
    "broj = input('unesi broj')\n",
    "\n",
    "while not broj.isnumeric():\n",
    "    broj = input('unesi broj')\n",
    "\n",
    "broj = int(broj)\n",
    "\n",
    "print(broj * 1000)"
   ]
  },
  {
   "cell_type": "markdown",
   "metadata": {},
   "source": [
    "2. Unosi tekst dok ne uneseš prazan"
   ]
  },
  {
   "cell_type": "code",
   "execution_count": 20,
   "metadata": {},
   "outputs": [],
   "source": [
    "riječ = input('Unesi nešto')\n",
    "\n",
    "while riječ != '':\n",
    "    riječ = input('Unesi nešto')\n"
   ]
  },
  {
   "cell_type": "markdown",
   "metadata": {},
   "source": [
    "3. Učitaj broj igrača i onda njihova imena"
   ]
  },
  {
   "cell_type": "code",
   "execution_count": null,
   "metadata": {},
   "outputs": [],
   "source": [
    "broj_igrača = input('unesi broj igrača')\n",
    "while not broj_igrača.isnumeric():\n",
    "    broj_igrača = input('unesi broj igrača')\n",
    "broj_igrača = int(broj_igrača)\n",
    "\n",
    "broj_imena = 0\n",
    "while broj_imena < broj_igrača:\n",
    "    ime = input(f'unesi ime {broj_imena + 1}. člana')\n",
    "    while True:\n",
    "        if ime:\n",
    "            break\n",
    "        if ime.isalpha():\n",
    "            break\n",
    "        if ' ' in ime:\n",
    "            break\n",
    "        if ime.istitle():\n",
    "            break\n",
    "        ime = input(f'unesi ime {broj_imena + 1}. člana')\n",
    "\n",
    "    print(ime)\n",
    "    broj_imena += 1\n"
   ]
  },
  {
   "cell_type": "markdown",
   "metadata": {},
   "source": [
    "5. Napiši igru pogađanja broja i neka ponavlja dok igrač ne pogodi broj"
   ]
  },
  {
   "cell_type": "code",
   "execution_count": 15,
   "metadata": {},
   "outputs": [
    {
     "name": "stdout",
     "output_type": "stream",
     "text": [
      "zamišljeni broj je veći\n",
      "zamišljeni broj je veći\n",
      "zamišljeni broj je veći\n",
      "zamišljeni broj je veći\n",
      "zamišljeni broj je veći\n",
      "Čestitke!\n",
      "5\n"
     ]
    }
   ],
   "source": [
    "import random\n",
    "zamišljeni_broj = random.randint(1, 10)\n",
    "\n",
    "pokušaj = int(input('unesi broj'))\n",
    "\n",
    "broj_pokušaja = 0\n",
    "while pokušaj != zamišljeni_broj:\n",
    "    broj_pokušaja += 1\n",
    "    if pokušaj > zamišljeni_broj:\n",
    "        print('zamišljeni broj je manji')\n",
    "    else:\n",
    "        print('zamišljeni broj je veći')\n",
    "    pokušaj = int(input('unesi broj'))\n",
    "\n",
    "print('Čestitke!')\n",
    "print(broj_pokušaja)\n"
   ]
  },
  {
   "cell_type": "markdown",
   "metadata": {},
   "source": [
    "6. Napišite program za izvlačenje karata iz špila bez da se ponove"
   ]
  },
  {
   "cell_type": "code",
   "execution_count": 51,
   "metadata": {},
   "outputs": [
    {
     "name": "stdout",
     "output_type": "stream",
     "text": [
      "karta2\n",
      "karta3\n",
      "karta4\n",
      "karta5\n",
      "karta5\n",
      "10♠ J♥ 9♥ 9♣ K♠\n"
     ]
    }
   ],
   "source": [
    "import random\n",
    "TIP_ŠPILA = '♠♥♦♣'\n",
    "TIP_VRIJEDNOSTI = '23456789XJQKA'\n",
    "\n",
    "špil = random.choice(TIP_ŠPILA)\n",
    "vrijednost = random.choice(TIP_VRIJEDNOSTI)\n",
    "if vrijednost == 'X':\n",
    "    vrijednost = '10'\n",
    "karta1 = vrijednost + špil\n",
    "\n",
    "while True:\n",
    "    špil = random.choice(TIP_ŠPILA)\n",
    "    vrijednost = random.choice(TIP_VRIJEDNOSTI)\n",
    "    if vrijednost == 'X':\n",
    "        vrijednost = '10'\n",
    "    karta2 = vrijednost + špil\n",
    "    print('karta2')\n",
    "    if karta2 != karta1:\n",
    "        break\n",
    "\n",
    "while True:\n",
    "    špil = random.choice(TIP_ŠPILA)\n",
    "    vrijednost = random.choice(TIP_VRIJEDNOSTI)\n",
    "    if vrijednost == 'X':\n",
    "        vrijednost = '10'\n",
    "    karta3 = vrijednost + špil\n",
    "    print('karta3')\n",
    "    if (karta3 != karta1) and (karta3 != karta2):\n",
    "        break\n",
    "\n",
    "while True:\n",
    "    špil = random.choice(TIP_ŠPILA)\n",
    "    vrijednost = random.choice(TIP_VRIJEDNOSTI)\n",
    "    if vrijednost == 'X':\n",
    "        vrijednost = '10'\n",
    "    karta4 = vrijednost + špil\n",
    "    print('karta4')\n",
    "    if (karta4 != karta1) and (karta4 != karta2) and (karta4 != karta3):\n",
    "        break\n",
    "\n",
    "while True:\n",
    "    špil = random.choice(TIP_ŠPILA)\n",
    "    vrijednost = random.choice(TIP_VRIJEDNOSTI)\n",
    "    if vrijednost == 'X':\n",
    "        vrijednost = '10'\n",
    "    karta5 = vrijednost + špil\n",
    "    print('karta5')\n",
    "    if (karta5 != karta1) and (karta5 != karta2) and (karta5 != karta3) and (karta5 != karta4):\n",
    "        break\n",
    "\n",
    "print(karta1, karta2, karta3, karta4, karta5)"
   ]
  },
  {
   "cell_type": "code",
   "execution_count": 57,
   "metadata": {},
   "outputs": [
    {
     "name": "stdout",
     "output_type": "stream",
     "text": [
      "['10♠', 'J♥', '9♥', '9♣', 'K♠']\n"
     ]
    }
   ],
   "source": [
    "lista = []\n",
    "lista.append(karta1)\n",
    "lista.append(karta2)\n",
    "lista.append(karta3)\n",
    "lista.append(karta4)\n",
    "lista.append(karta5)\n",
    "print(lista)\n"
   ]
  },
  {
   "cell_type": "markdown",
   "metadata": {},
   "source": [
    "7. Napiši program za login, nakon 3. pokušaja se doda pitanje \"jesi li čovjek\""
   ]
  },
  {
   "cell_type": "code",
   "execution_count": 2,
   "metadata": {},
   "outputs": [
    {
     "ename": "KeyboardInterrupt",
     "evalue": "",
     "output_type": "error",
     "traceback": [
      "\u001b[1;31m---------------------------------------------------------------------------\u001b[0m",
      "\u001b[1;31mKeyboardInterrupt\u001b[0m                         Traceback (most recent call last)",
      "Cell \u001b[1;32mIn[2], line 11\u001b[0m\n\u001b[0;32m      8\u001b[0m \u001b[38;5;28;01mif\u001b[39;00m broj_pokušaja \u001b[38;5;241m>\u001b[39m \u001b[38;5;241m3\u001b[39m:\n\u001b[0;32m      9\u001b[0m     captcha \u001b[38;5;241m=\u001b[39m \u001b[38;5;28minput\u001b[39m(\u001b[38;5;124m'\u001b[39m\u001b[38;5;124mjesi li čovjek\u001b[39m\u001b[38;5;124m'\u001b[39m)    \n\u001b[1;32m---> 11\u001b[0m \u001b[38;5;28;01mif\u001b[39;00m \u001b[43musername\u001b[49m \u001b[38;5;241m==\u001b[39m default_username \u001b[38;5;129;01mand\u001b[39;00m password \u001b[38;5;241m==\u001b[39m default_password \u001b[38;5;129;01mand\u001b[39;00m captcha \u001b[38;5;241m==\u001b[39m \u001b[38;5;124m'\u001b[39m\u001b[38;5;124mda\u001b[39m\u001b[38;5;124m'\u001b[39m:\n\u001b[0;32m     12\u001b[0m     \u001b[38;5;28mprint\u001b[39m(\u001b[38;5;124m'\u001b[39m\u001b[38;5;124muspješno ste se prijavili\u001b[39m\u001b[38;5;124m'\u001b[39m)\n\u001b[0;32m     13\u001b[0m     \u001b[38;5;28;01mbreak\u001b[39;00m\n",
      "File \u001b[1;32m<stringsource>:69\u001b[0m, in \u001b[0;36mcfunc.to_py.__Pyx_CFunc_b0409f__29_pydevd_sys_monitoring_cython_object__lParen__etc_to_py_4code_4line.wrap\u001b[1;34m()\u001b[0m\n",
      "File \u001b[1;32m_pydevd_sys_monitoring\\\\_pydevd_sys_monitoring_cython.pyx:1470\u001b[0m, in \u001b[0;36m_pydevd_sys_monitoring_cython._line_event\u001b[1;34m()\u001b[0m\n",
      "File \u001b[1;32m_pydevd_sys_monitoring\\\\_pydevd_sys_monitoring_cython.pyx:1512\u001b[0m, in \u001b[0;36m_pydevd_sys_monitoring_cython._internal_line_event\u001b[1;34m()\u001b[0m\n",
      "File \u001b[1;32m_pydevd_sys_monitoring\\\\_pydevd_sys_monitoring_cython.pyx:1313\u001b[0m, in \u001b[0;36m_pydevd_sys_monitoring_cython._stop_on_breakpoint\u001b[1;34m()\u001b[0m\n",
      "File \u001b[1;32m_pydevd_sys_monitoring\\\\_pydevd_sys_monitoring_cython.pyx:1950\u001b[0m, in \u001b[0;36m_pydevd_sys_monitoring_cython._do_wait_suspend\u001b[1;34m()\u001b[0m\n",
      "File \u001b[1;32m~\\AppData\\Roaming\\Python\\Python313\\site-packages\\debugpy\\_vendored\\pydevd\\pydevd.py:2185\u001b[0m, in \u001b[0;36mPyDB.do_wait_suspend\u001b[1;34m(self, thread, frame, event, arg, exception_type)\u001b[0m\n\u001b[0;32m   2182\u001b[0m             from_this_thread\u001b[38;5;241m.\u001b[39mappend(frame_custom_thread_id)\n\u001b[0;32m   2184\u001b[0m     \u001b[38;5;28;01mwith\u001b[39;00m \u001b[38;5;28mself\u001b[39m\u001b[38;5;241m.\u001b[39m_threads_suspended_single_notification\u001b[38;5;241m.\u001b[39mnotify_thread_suspended(thread_id, thread, stop_reason):\n\u001b[1;32m-> 2185\u001b[0m         keep_suspended \u001b[38;5;241m=\u001b[39m \u001b[38;5;28;43mself\u001b[39;49m\u001b[38;5;241;43m.\u001b[39;49m\u001b[43m_do_wait_suspend\u001b[49m\u001b[43m(\u001b[49m\u001b[43mthread\u001b[49m\u001b[43m,\u001b[49m\u001b[43m \u001b[49m\u001b[43mframe\u001b[49m\u001b[43m,\u001b[49m\u001b[43m \u001b[49m\u001b[43mevent\u001b[49m\u001b[43m,\u001b[49m\u001b[43m \u001b[49m\u001b[43marg\u001b[49m\u001b[43m,\u001b[49m\u001b[43m \u001b[49m\u001b[43mtrace_suspend_type\u001b[49m\u001b[43m,\u001b[49m\u001b[43m \u001b[49m\u001b[43mfrom_this_thread\u001b[49m\u001b[43m,\u001b[49m\u001b[43m \u001b[49m\u001b[43mframes_tracker\u001b[49m\u001b[43m)\u001b[49m\n\u001b[0;32m   2187\u001b[0m frames_list \u001b[38;5;241m=\u001b[39m \u001b[38;5;28;01mNone\u001b[39;00m\n\u001b[0;32m   2189\u001b[0m \u001b[38;5;28;01mif\u001b[39;00m keep_suspended:\n\u001b[0;32m   2190\u001b[0m     \u001b[38;5;66;03m# This means that we should pause again after a set next statement.\u001b[39;00m\n",
      "File \u001b[1;32m~\\AppData\\Roaming\\Python\\Python313\\site-packages\\debugpy\\_vendored\\pydevd\\pydevd.py:2254\u001b[0m, in \u001b[0;36mPyDB._do_wait_suspend\u001b[1;34m(self, thread, frame, event, arg, trace_suspend_type, from_this_thread, frames_tracker)\u001b[0m\n\u001b[0;32m   2251\u001b[0m                 queue\u001b[38;5;241m.\u001b[39mput(internal_cmd)\n\u001b[0;32m   2252\u001b[0m                 wait_timeout \u001b[38;5;241m=\u001b[39m TIMEOUT_FAST\n\u001b[1;32m-> 2254\u001b[0m         \u001b[43mnotify_event\u001b[49m\u001b[38;5;241;43m.\u001b[39;49m\u001b[43mwait\u001b[49m\u001b[43m(\u001b[49m\u001b[43mwait_timeout\u001b[49m\u001b[43m)\u001b[49m\n\u001b[0;32m   2255\u001b[0m         notify_event\u001b[38;5;241m.\u001b[39mclear()\n\u001b[0;32m   2257\u001b[0m \u001b[38;5;28;01mfinally\u001b[39;00m:\n",
      "File \u001b[1;32mc:\\Users\\Korisnik\\AppData\\Local\\Programs\\Python\\Python313\\Lib\\threading.py:659\u001b[0m, in \u001b[0;36mEvent.wait\u001b[1;34m(self, timeout)\u001b[0m\n\u001b[0;32m    657\u001b[0m signaled \u001b[38;5;241m=\u001b[39m \u001b[38;5;28mself\u001b[39m\u001b[38;5;241m.\u001b[39m_flag\n\u001b[0;32m    658\u001b[0m \u001b[38;5;28;01mif\u001b[39;00m \u001b[38;5;129;01mnot\u001b[39;00m signaled:\n\u001b[1;32m--> 659\u001b[0m     signaled \u001b[38;5;241m=\u001b[39m \u001b[38;5;28;43mself\u001b[39;49m\u001b[38;5;241;43m.\u001b[39;49m\u001b[43m_cond\u001b[49m\u001b[38;5;241;43m.\u001b[39;49m\u001b[43mwait\u001b[49m\u001b[43m(\u001b[49m\u001b[43mtimeout\u001b[49m\u001b[43m)\u001b[49m\n\u001b[0;32m    660\u001b[0m \u001b[38;5;28;01mreturn\u001b[39;00m signaled\n",
      "File \u001b[1;32mc:\\Users\\Korisnik\\AppData\\Local\\Programs\\Python\\Python313\\Lib\\threading.py:363\u001b[0m, in \u001b[0;36mCondition.wait\u001b[1;34m(self, timeout)\u001b[0m\n\u001b[0;32m    361\u001b[0m \u001b[38;5;28;01melse\u001b[39;00m:\n\u001b[0;32m    362\u001b[0m     \u001b[38;5;28;01mif\u001b[39;00m timeout \u001b[38;5;241m>\u001b[39m \u001b[38;5;241m0\u001b[39m:\n\u001b[1;32m--> 363\u001b[0m         gotit \u001b[38;5;241m=\u001b[39m \u001b[43mwaiter\u001b[49m\u001b[38;5;241;43m.\u001b[39;49m\u001b[43macquire\u001b[49m\u001b[43m(\u001b[49m\u001b[38;5;28;43;01mTrue\u001b[39;49;00m\u001b[43m,\u001b[49m\u001b[43m \u001b[49m\u001b[43mtimeout\u001b[49m\u001b[43m)\u001b[49m\n\u001b[0;32m    364\u001b[0m     \u001b[38;5;28;01melse\u001b[39;00m:\n\u001b[0;32m    365\u001b[0m         gotit \u001b[38;5;241m=\u001b[39m waiter\u001b[38;5;241m.\u001b[39macquire(\u001b[38;5;28;01mFalse\u001b[39;00m)\n",
      "\u001b[1;31mKeyboardInterrupt\u001b[0m: "
     ]
    }
   ],
   "source": [
    "default_username = 'machina'\n",
    "default_password = 'pass1234'\n",
    "\n",
    "broj_pokušaja = 0\n",
    "while True:\n",
    "    username = input('unesi username')\n",
    "    password = input('unesi password')\n",
    "    if broj_pokušaja > 3:\n",
    "        captcha = input('jesi li čovjek')    \n",
    "\n",
    "    if username == default_username and password == default_password and captcha == 'da':\n",
    "        print('uspješno ste se prijavili')\n",
    "        break\n",
    "    else:\n",
    "        print('krivi username ili password')\n",
    "        broj_pokušaja += 1\n",
    "        if broj_pokušaja == 3:\n",
    "            print('previše pokušaja')\n",
    "            break\n",
    "\n",
    "\n"
   ]
  }
 ],
 "metadata": {
  "kernelspec": {
   "display_name": "Python 3",
   "language": "python",
   "name": "python3"
  },
  "language_info": {
   "codemirror_mode": {
    "name": "ipython",
    "version": 3
   },
   "file_extension": ".py",
   "mimetype": "text/x-python",
   "name": "python",
   "nbconvert_exporter": "python",
   "pygments_lexer": "ipython3",
   "version": "3.13.1"
  }
 },
 "nbformat": 4,
 "nbformat_minor": 2
}
