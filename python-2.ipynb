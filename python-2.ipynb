{
 "cells": [
  {
   "cell_type": "markdown",
   "metadata": {},
   "source": [
    "Python 2 - kontrola toka"
   ]
  },
  {
   "cell_type": "code",
   "execution_count": 1,
   "metadata": {},
   "outputs": [
    {
     "data": {
      "text/plain": [
       "5"
      ]
     },
     "execution_count": 1,
     "metadata": {},
     "output_type": "execute_result"
    }
   ],
   "source": [
    "2 + 3"
   ]
  },
  {
   "cell_type": "markdown",
   "metadata": {},
   "source": [
    "Zadatak: preračunaj m i dm u cm"
   ]
  },
  {
   "cell_type": "code",
   "execution_count": null,
   "metadata": {},
   "outputs": [
    {
     "name": "stdout",
     "output_type": "stream",
     "text": [
      "10 dm\n",
      "100 cm\n"
     ]
    }
   ],
   "source": [
    "veličina = input(\"Unesi veličinu u m, cm ili dm: \")\n",
    "broj, mjera = veličina.split()\n",
    "broj = int(broj)\n",
    "\n",
    "if mjera == 'dm':\n",
    "    broj *= 10\n",
    "if mjera == 'm':\n",
    "    broj *= 100\n",
    "\n",
    "print(veličina)\n",
    "print(broj, 'cm')"
   ]
  },
  {
   "cell_type": "code",
   "execution_count": 19,
   "metadata": {},
   "outputs": [
    {
     "name": "stdout",
     "output_type": "stream",
     "text": [
      "cijena je 0€\n",
      "gotovo\n"
     ]
    }
   ],
   "source": [
    "godine = int(input(\"Unesi broj godina \"))\n",
    "if godine > 65:\n",
    "    print(\"cijena je 5€\")\n",
    "elif godine > 18:\n",
    "    print(\"cijena je 15€\")\n",
    "elif godine > 7:\n",
    "    print(\"cijena je 7€\")\n",
    "else:\n",
    "    print(\"cijena je 0€\")\n",
    "\n",
    "print(\"gotovo\")\n",
    "    "
   ]
  },
  {
   "cell_type": "markdown",
   "metadata": {},
   "source": [
    "Zadatak: Unesi 3 stranice i opiši koji tip trokuta"
   ]
  },
  {
   "cell_type": "code",
   "execution_count": 32,
   "metadata": {},
   "outputs": [
    {
     "name": "stdout",
     "output_type": "stream",
     "text": [
      "Stranice su: 3 4 3\n",
      "jednakokračan\n"
     ]
    }
   ],
   "source": [
    "a = int(input(\"Unesi stranicu: \"))\n",
    "b = int(input(\"Unesi stranicu: \"))\n",
    "c = int(input(\"Unesi stranicu: \"))\n",
    "\n",
    "print(\"Stranice su:\", a, b, c)\n",
    "\n",
    "if a == b == c:\n",
    "    print(\"Jednakostraničan\")\n",
    "elif a ** 2 + b ** 2 == c ** 2:\n",
    "    print(\"pravokutan\")\n",
    "elif (a == b != c) or (c == b != a) or (a == c != b):\n",
    "    print(\"jednakokračan\")\n",
    "else:\n",
    "    print(\"raznostraničan\")\n"
   ]
  },
  {
   "cell_type": "markdown",
   "metadata": {},
   "source": [
    "Zadatak: dvokratni rad trgovine - 8-11:30 i 14:30-18"
   ]
  },
  {
   "cell_type": "code",
   "execution_count": 49,
   "metadata": {},
   "outputs": [
    {
     "name": "stdout",
     "output_type": "stream",
     "text": [
      "radi\n"
     ]
    }
   ],
   "source": [
    "# 8 - 11:30 ili 14:30-18\n",
    "sati = int(input(\"Unesi sate\"))\n",
    "minute = int(input(\"Unesi minute\"))\n",
    "\n",
    "#vrijeme = input('Unesi vrijeme u obliku HH:MM')\n",
    "\n",
    "if (8 <= sati < 11) or (sati == 11 and minute <= 30) or (sati == 14 and minute > 30) or (15 <= sati < 18):\n",
    "    print('radi')\n",
    "else:\n",
    "    print('ne radi')\n"
   ]
  },
  {
   "cell_type": "markdown",
   "metadata": {},
   "source": [
    "Hint za DZ"
   ]
  },
  {
   "cell_type": "code",
   "execution_count": 52,
   "metadata": {},
   "outputs": [
    {
     "data": {
      "text/plain": [
       "['9', '15']"
      ]
     },
     "execution_count": 52,
     "metadata": {},
     "output_type": "execute_result"
    }
   ],
   "source": [
    "'9:15'.split(':')"
   ]
  },
  {
   "cell_type": "code",
   "execution_count": 85,
   "metadata": {},
   "outputs": [
    {
     "data": {
      "text/plain": [
       "6"
      ]
     },
     "execution_count": 85,
     "metadata": {},
     "output_type": "execute_result"
    }
   ],
   "source": [
    "import random\n",
    "random.randint(1, 10)"
   ]
  },
  {
   "cell_type": "code",
   "execution_count": 108,
   "metadata": {},
   "outputs": [
    {
     "data": {
      "text/plain": [
       "datetime.datetime(2025, 1, 27, 19, 55, 44, 335482)"
      ]
     },
     "execution_count": 108,
     "metadata": {},
     "output_type": "execute_result"
    }
   ],
   "source": [
    "import datetime as dt\n",
    "start = dt.datetime.now()\n",
    "start"
   ]
  },
  {
   "cell_type": "code",
   "execution_count": 109,
   "metadata": {},
   "outputs": [
    {
     "name": "stdout",
     "output_type": "stream",
     "text": [
      "0:00:03.418019\n"
     ]
    }
   ],
   "source": [
    "import datetime as dt\n",
    "start = dt.datetime.now()\n",
    "input()\n",
    "end = dt.datetime.now()\n",
    "\n",
    "print(end - start)\n"
   ]
  },
  {
   "cell_type": "code",
   "execution_count": 113,
   "metadata": {},
   "outputs": [
    {
     "data": {
      "text/plain": [
       "0"
      ]
     },
     "execution_count": 113,
     "metadata": {},
     "output_type": "execute_result"
    }
   ],
   "source": [
    "(end - start).days"
   ]
  },
  {
   "cell_type": "code",
   "execution_count": 119,
   "metadata": {},
   "outputs": [
    {
     "data": {
      "text/plain": [
       "'20:01'"
      ]
     },
     "execution_count": 119,
     "metadata": {},
     "output_type": "execute_result"
    }
   ],
   "source": [
    "now = dt.datetime.now()\n",
    "\n",
    "now.strftime('%H:%M')"
   ]
  },
  {
   "cell_type": "code",
   "execution_count": 129,
   "metadata": {},
   "outputs": [
    {
     "data": {
      "text/plain": [
       "datetime.timedelta(days=16194)"
      ]
     },
     "execution_count": 129,
     "metadata": {},
     "output_type": "execute_result"
    }
   ],
   "source": [
    "birthday = '26-09-1980'\n",
    "birthday = dt.datetime.strptime(birthday, '%d-%m-%Y').date()\n",
    "\n",
    "now = dt.datetime.now().date()\n",
    "\n",
    "now - birthday"
   ]
  },
  {
   "cell_type": "markdown",
   "metadata": {},
   "source": [
    "Učitaj godinu, mjesec, dan rođenja i vrati broj dana starosti"
   ]
  },
  {
   "cell_type": "code",
   "execution_count": 143,
   "metadata": {},
   "outputs": [
    {
     "data": {
      "text/plain": [
       "datetime.date(2025, 1, 27)"
      ]
     },
     "execution_count": 143,
     "metadata": {},
     "output_type": "execute_result"
    }
   ],
   "source": [
    "godina = int(input(\"Unesi godinu\"))\n",
    "mjesec = int(input(\"Unesi mjesec\"))\n",
    "dan = int(input(\"Unesi dan\"))\n",
    "\n",
    "datum_rođenja = dt.date(godina, mjesec, dan)\n",
    "\n",
    "danas = dt.datetime.now().date()\n",
    "\n",
    "(danas - datum_rođenja).days"
   ]
  },
  {
   "cell_type": "markdown",
   "metadata": {},
   "source": [
    "Vrati koji je bio dan u tjednu 1. dan ovaj mjesec"
   ]
  },
  {
   "cell_type": "code",
   "execution_count": 153,
   "metadata": {},
   "outputs": [
    {
     "data": {
      "text/plain": [
       "'Saturday'"
      ]
     },
     "execution_count": 153,
     "metadata": {},
     "output_type": "execute_result"
    }
   ],
   "source": [
    "danas = dt.datetime.now().date()\n",
    "godina = danas.year\n",
    "mjesec = danas.month + 1\n",
    "prvi_dan = dt.date(godina, mjesec, 1)\n",
    "prvi_dan.strftime('%A')"
   ]
  },
  {
   "cell_type": "markdown",
   "metadata": {},
   "source": [
    "Hint za DZ: vrati koji je bio dan u tjednu kad je netko rođen"
   ]
  },
  {
   "cell_type": "code",
   "execution_count": 156,
   "metadata": {},
   "outputs": [
    {
     "name": "stdout",
     "output_type": "stream",
     "text": [
      "1980-09-26 00:00:00\n",
      "1980-09-26 00:00:00\n"
     ]
    },
    {
     "data": {
      "text/plain": [
       "'1980.09.26.'"
      ]
     },
     "execution_count": 156,
     "metadata": {},
     "output_type": "execute_result"
    }
   ],
   "source": [
    "print(dt.datetime.strptime('1980-09-26', '%Y-%m-%d'))\n",
    "print(dt.datetime.strptime('26.09.1980.', '%d.%m.%Y.'))\n",
    "'1980-09-26'\n",
    "'1980.09.26.'\n",
    "\n"
   ]
  },
  {
   "cell_type": "markdown",
   "metadata": {},
   "source": [
    "Dva pokušaja pogađanja broja od 1 do 10"
   ]
  },
  {
   "cell_type": "code",
   "execution_count": null,
   "metadata": {},
   "outputs": [
    {
     "name": "stdout",
     "output_type": "stream",
     "text": [
      "pogodio si\n",
      "pogodio si\n"
     ]
    }
   ],
   "source": [
    "import random\n",
    "broj = random.randint(1, 3)\n",
    "\n",
    "pokušaj = int(input(\"Pogodi broj\"))\n",
    "\n",
    "if broj > pokušaj:\n",
    "    print('veći')\n",
    "elif broj < pokušaj:\n",
    "    print('manji')\n",
    "else:\n",
    "    print('pogodio si')\n",
    "    # prekini izvršavanje programa\n",
    "\n",
    "pokušaj = int(input(\"Pogodi broj\"))\n",
    "\n",
    "if broj > pokušaj:\n",
    "    print('veći')\n",
    "elif broj < pokušaj:\n",
    "    print('manji')\n",
    "else:\n",
    "    print('pogodio si')\n",
    "\n"
   ]
  },
  {
   "cell_type": "code",
   "execution_count": 3,
   "metadata": {},
   "outputs": [
    {
     "name": "stdout",
     "output_type": "stream",
     "text": [
      "J♦ Q♣ J♦ K♣ Q♦\n"
     ]
    }
   ],
   "source": [
    "import random\n",
    "TIP_ŠPILA = '♠♥♦♣'\n",
    "TIP_VRIJEDNOSTI = '23456789XJQKA'\n",
    "\n",
    "špil = random.choice(TIP_ŠPILA)\n",
    "vrijednost = random.choice(TIP_VRIJEDNOSTI)\n",
    "if vrijednost == 'X':\n",
    "    vrijednost = '10'\n",
    "karta1 = vrijednost + špil\n",
    "\n",
    "špil = random.choice(TIP_ŠPILA)\n",
    "vrijednost = random.choice(TIP_VRIJEDNOSTI)\n",
    "if vrijednost == 'X':\n",
    "    vrijednost = '10'\n",
    "karta2 = vrijednost + špil\n",
    "\n",
    "špil = random.choice(TIP_ŠPILA)\n",
    "vrijednost = random.choice(TIP_VRIJEDNOSTI)\n",
    "if vrijednost == 'X':\n",
    "    vrijednost = '10'\n",
    "karta3 = vrijednost + špil\n",
    "\n",
    "špil = random.choice(TIP_ŠPILA)\n",
    "vrijednost = random.choice(TIP_VRIJEDNOSTI)\n",
    "if vrijednost == 'X':\n",
    "    vrijednost = '10'\n",
    "karta4 = vrijednost + špil\n",
    "\n",
    "špil = random.choice(TIP_ŠPILA)\n",
    "vrijednost = random.choice(TIP_VRIJEDNOSTI)\n",
    "if vrijednost == 'X':\n",
    "    vrijednost = '10'\n",
    "karta5 = vrijednost + špil\n",
    "\n",
    "print(karta1, karta2, karta3, karta4, karta5)"
   ]
  },
  {
   "cell_type": "code",
   "execution_count": 219,
   "metadata": {},
   "outputs": [
    {
     "data": {
      "text/plain": [
       "'10♥'"
      ]
     },
     "execution_count": 219,
     "metadata": {},
     "output_type": "execute_result"
    }
   ],
   "source": [
    "vrijednost + špil"
   ]
  },
  {
   "cell_type": "code",
   "execution_count": null,
   "metadata": {},
   "outputs": [],
   "source": []
  }
 ],
 "metadata": {
  "kernelspec": {
   "display_name": "Python 3",
   "language": "python",
   "name": "python3"
  },
  "language_info": {
   "codemirror_mode": {
    "name": "ipython",
    "version": 3
   },
   "file_extension": ".py",
   "mimetype": "text/x-python",
   "name": "python",
   "nbconvert_exporter": "python",
   "pygments_lexer": "ipython3",
   "version": "3.13.1"
  }
 },
 "nbformat": 4,
 "nbformat_minor": 2
}
